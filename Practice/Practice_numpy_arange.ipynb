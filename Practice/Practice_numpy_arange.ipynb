{
 "cells": [
  {
   "cell_type": "code",
   "execution_count": 1,
   "id": "monthly-telephone",
   "metadata": {},
   "outputs": [],
   "source": [
    "from matplotlib import pyplot as plt\n"
   ]
  },
  {
   "cell_type": "code",
   "execution_count": 2,
   "id": "empirical-wales",
   "metadata": {},
   "outputs": [],
   "source": [
    "import numpy as np "
   ]
  },
  {
   "cell_type": "code",
   "execution_count": 3,
   "id": "miniature-baseline",
   "metadata": {},
   "outputs": [],
   "source": [
    "# Compute the x and y coordinates for points on a sine curve \n",
    "x = np.arange(0, 3 * np.pi, 0.1) "
   ]
  },
  {
   "cell_type": "code",
   "execution_count": 4,
   "id": "played-viewer",
   "metadata": {},
   "outputs": [],
   "source": [
    "y = np.sin(x) "
   ]
  },
  {
   "cell_type": "code",
   "execution_count": 5,
   "id": "optical-short",
   "metadata": {},
   "outputs": [
    {
     "data": {
      "image/png": "[encoded data removed]",
      "text/plain": [
       "<Figure size 432x288 with 1 Axes>"
      ]
     },
     "metadata": {
      "needs_background": "light"
     },
     "output_type": "display_data"
    }
   ],
   "source": [
    "plt.title(\"sine wave form\") \n",
    "\n",
    "# Plot the points using matplotlib \n",
    "plt.plot(x, y) \n",
    "plt.show() "
   ]
  },
  {
   "cell_type": "code",
   "execution_count": 6,
   "id": "bacterial-chambers",
   "metadata": {},
   "outputs": [
    {
     "name": "stdout",
     "output_type": "stream",
     "text": [
      "9.42477796076938\n"
     ]
    }
   ],
   "source": [
    "print(3*np.pi)"
   ]
  },
  {
   "cell_type": "code",
   "execution_count": 7,
   "id": "pursuant-solution",
   "metadata": {},
   "outputs": [
    {
     "name": "stdout",
     "output_type": "stream",
     "text": [
      "[0.  0.1 0.2 0.3 0.4 0.5 0.6 0.7 0.8 0.9 1.  1.1 1.2 1.3 1.4 1.5 1.6 1.7\n",
      " 1.8 1.9 2.  2.1 2.2 2.3 2.4 2.5 2.6 2.7 2.8 2.9 3.  3.1 3.2 3.3 3.4 3.5\n",
      " 3.6 3.7 3.8 3.9 4.  4.1 4.2 4.3 4.4 4.5 4.6 4.7 4.8 4.9 5.  5.1 5.2 5.3\n",
      " 5.4 5.5 5.6 5.7 5.8 5.9 6.  6.1 6.2 6.3 6.4 6.5 6.6 6.7 6.8 6.9 7.  7.1\n",
      " 7.2 7.3 7.4 7.5 7.6 7.7 7.8 7.9 8.  8.1 8.2 8.3 8.4 8.5 8.6 8.7 8.8 8.9\n",
      " 9.  9.1 9.2 9.3 9.4]\n"
     ]
    }
   ],
   "source": [
    "print(x)"
   ]
  },
  {
   "cell_type": "code",
   "execution_count": 8,
   "id": "existing-wedding",
   "metadata": {},
   "outputs": [
    {
     "name": "stdout",
     "output_type": "stream",
     "text": [
      "[ 0.          0.09983342  0.19866933  0.29552021  0.38941834  0.47942554\n",
      "  0.56464247  0.64421769  0.71735609  0.78332691  0.84147098  0.89120736\n",
      "  0.93203909  0.96355819  0.98544973  0.99749499  0.9995736   0.99166481\n",
      "  0.97384763  0.94630009  0.90929743  0.86320937  0.8084964   0.74570521\n",
      "  0.67546318  0.59847214  0.51550137  0.42737988  0.33498815  0.23924933\n",
      "  0.14112001  0.04158066 -0.05837414 -0.15774569 -0.2555411  -0.35078323\n",
      " -0.44252044 -0.52983614 -0.61185789 -0.68776616 -0.7568025  -0.81827711\n",
      " -0.87157577 -0.91616594 -0.95160207 -0.97753012 -0.993691   -0.99992326\n",
      " -0.99616461 -0.98245261 -0.95892427 -0.92581468 -0.88345466 -0.83226744\n",
      " -0.77276449 -0.70554033 -0.63126664 -0.55068554 -0.46460218 -0.37387666\n",
      " -0.2794155  -0.1821625  -0.0830894   0.0168139   0.1165492   0.21511999\n",
      "  0.31154136  0.40484992  0.49411335  0.57843976  0.6569866   0.72896904\n",
      "  0.79366786  0.85043662  0.8987081   0.93799998  0.96791967  0.98816823\n",
      "  0.99854335  0.99894134  0.98935825  0.96988981  0.94073056  0.90217183\n",
      "  0.85459891  0.79848711  0.7343971   0.66296923  0.58491719  0.50102086\n",
      "  0.41211849  0.31909836  0.22288991  0.12445442  0.02477543]\n"
     ]
    }
   ],
   "source": [
    "print(y)"
   ]
  },
  {
   "cell_type": "code",
   "execution_count": 9,
   "id": "peaceful-stand",
   "metadata": {},
   "outputs": [
    {
     "name": "stdout",
     "output_type": "stream",
     "text": [
      "0.8414709848078965\n"
     ]
    }
   ],
   "source": [
    "print(np.sin(1))"
   ]
  },
  {
   "cell_type": "code",
   "execution_count": 10,
   "id": "frozen-vehicle",
   "metadata": {},
   "outputs": [],
   "source": [
    "a=np.arange(start=1, stop=100, step=3)"
   ]
  },
  {
   "cell_type": "code",
   "execution_count": 11,
   "id": "subject-disorder",
   "metadata": {},
   "outputs": [
    {
     "name": "stdout",
     "output_type": "stream",
     "text": [
      "[ 1  4  7 10 13 16 19 22 25 28 31 34 37 40 43 46 49 52 55 58 61 64 67 70\n",
      " 73 76 79 82 85 88 91 94 97]\n"
     ]
    }
   ],
   "source": [
    "print(a)"
   ]
  },
  {
   "cell_type": "code",
   "execution_count": 12,
   "id": "baking-spectrum",
   "metadata": {},
   "outputs": [
    {
     "data": {
      "text/plain": [
       "array([ 1.,  4.,  7., 10.])"
      ]
     },
     "execution_count": 12,
     "metadata": {},
     "output_type": "execute_result"
    }
   ],
   "source": [
    "np.arange(1, 10.1, 3)"
   ]
  },
  {
   "cell_type": "code",
   "execution_count": 13,
   "id": "productive-plate",
   "metadata": {},
   "outputs": [
    {
     "data": {
      "text/plain": [
       "array([1, 2, 3, 4, 5, 6, 7, 8, 9])"
      ]
     },
     "execution_count": 13,
     "metadata": {},
     "output_type": "execute_result"
    }
   ],
   "source": [
    "np.arange(start=1, stop=10)"
   ]
  },
  {
   "cell_type": "code",
   "execution_count": 14,
   "id": "entertaining-service",
   "metadata": {},
   "outputs": [
    {
     "data": {
      "text/plain": [
       "array([1, 2, 3, 4, 5, 6, 7, 8, 9])"
      ]
     },
     "execution_count": 14,
     "metadata": {},
     "output_type": "execute_result"
    }
   ],
   "source": [
    "# start and stop and step is by default 1\n",
    "np.arange(1, 10)"
   ]
  },
  {
   "cell_type": "code",
   "execution_count": 15,
   "id": "spatial-pontiac",
   "metadata": {},
   "outputs": [
    {
     "data": {
      "text/plain": [
       "array([0, 1, 2, 3, 4, 5, 6, 7, 8, 9])"
      ]
     },
     "execution_count": 15,
     "metadata": {},
     "output_type": "execute_result"
    }
   ],
   "source": [
    "np.arange(start=0, stop=10, step=1)"
   ]
  },
  {
   "cell_type": "code",
   "execution_count": 16,
   "id": "bizarre-reason",
   "metadata": {},
   "outputs": [
    {
     "data": {
      "text/plain": [
       "array([0, 1, 2, 3, 4, 5, 6, 7, 8, 9])"
      ]
     },
     "execution_count": 16,
     "metadata": {},
     "output_type": "execute_result"
    }
   ],
   "source": [
    "np.arange(0, 10, 1)"
   ]
  },
  {
   "cell_type": "code",
   "execution_count": 17,
   "id": "harmful-mistake",
   "metadata": {},
   "outputs": [
    {
     "data": {
      "text/plain": [
       "array([0, 1, 2, 3, 4, 5, 6, 7, 8, 9])"
      ]
     },
     "execution_count": 17,
     "metadata": {},
     "output_type": "execute_result"
    }
   ],
   "source": [
    "np.arange(start=0, stop=10)"
   ]
  },
  {
   "cell_type": "code",
   "execution_count": 18,
   "id": "chemical-norfolk",
   "metadata": {},
   "outputs": [
    {
     "data": {
      "text/plain": [
       "array([0, 1, 2, 3, 4, 5, 6, 7, 8, 9])"
      ]
     },
     "execution_count": 18,
     "metadata": {},
     "output_type": "execute_result"
    }
   ],
   "source": [
    " np.arange(10)  # Stop is 10, start is 0, and step is 1!"
   ]
  },
  {
   "cell_type": "code",
   "execution_count": 19,
   "id": "marked-ghost",
   "metadata": {},
   "outputs": [
    {
     "data": {
      "text/plain": [
       "array([-5, -4, -3, -2])"
      ]
     },
     "execution_count": 19,
     "metadata": {},
     "output_type": "execute_result"
    }
   ],
   "source": [
    "np.arange(-5, -1)"
   ]
  },
  {
   "cell_type": "code",
   "execution_count": 20,
   "id": "centered-knitting",
   "metadata": {},
   "outputs": [
    {
     "data": {
      "text/plain": [
       "array([-8, -6, -4])"
      ]
     },
     "execution_count": 20,
     "metadata": {},
     "output_type": "execute_result"
    }
   ],
   "source": [
    "np.arange(-8, -2, 2)"
   ]
  },
  {
   "cell_type": "code",
   "execution_count": 21,
   "id": "satisfactory-yesterday",
   "metadata": {},
   "outputs": [
    {
     "data": {
      "text/plain": [
       "array([-5, -1,  3])"
      ]
     },
     "execution_count": 21,
     "metadata": {},
     "output_type": "execute_result"
    }
   ],
   "source": [
    "np.arange(-5, 6, 4)"
   ]
  },
  {
   "cell_type": "code",
   "execution_count": 22,
   "id": "robust-passion",
   "metadata": {},
   "outputs": [
    {
     "data": {
      "text/plain": [
       "array([5, 4, 3, 2])"
      ]
     },
     "execution_count": 22,
     "metadata": {},
     "output_type": "execute_result"
    }
   ],
   "source": [
    "#counting backwards\n",
    "np.arange(5, 1, -1)"
   ]
  },
  {
   "cell_type": "code",
   "execution_count": 23,
   "id": "bulgarian-signature",
   "metadata": {},
   "outputs": [
    {
     "data": {
      "text/plain": [
       "array([7, 4, 1])"
      ]
     },
     "execution_count": 23,
     "metadata": {},
     "output_type": "execute_result"
    }
   ],
   "source": [
    "np.arange(7, 0, -3)"
   ]
  },
  {
   "cell_type": "code",
   "execution_count": 25,
   "id": "faced-suicide",
   "metadata": {},
   "outputs": [
    {
     "data": {
      "text/plain": [
       "array([1, 4, 7])"
      ]
     },
     "execution_count": 25,
     "metadata": {},
     "output_type": "execute_result"
    }
   ],
   "source": [
    "np.arange(1, 8, 3)"
   ]
  },
  {
   "cell_type": "code",
   "execution_count": 24,
   "id": "determined-hamburg",
   "metadata": {},
   "outputs": [
    {
     "data": {
      "text/plain": [
       "array([7, 4, 1])"
      ]
     },
     "execution_count": 24,
     "metadata": {},
     "output_type": "execute_result"
    }
   ],
   "source": [
    "np.arange(1, 8, 3)[::-1] #to reverse the elements in the array"
   ]
  },
  {
   "cell_type": "code",
   "execution_count": 26,
   "id": "derived-cyprus",
   "metadata": {},
   "outputs": [
    {
     "data": {
      "text/plain": [
       "array([7, 4, 1])"
      ]
     },
     "execution_count": 26,
     "metadata": {},
     "output_type": "execute_result"
    }
   ],
   "source": [
    "np.flip(np.arange(1, 8, 3))"
   ]
  },
  {
   "cell_type": "code",
   "execution_count": 27,
   "id": "underlying-wonder",
   "metadata": {},
   "outputs": [
    {
     "data": {
      "text/plain": [
       "array([], dtype=int32)"
      ]
     },
     "execution_count": 27,
     "metadata": {},
     "output_type": "execute_result"
    }
   ],
   "source": [
    "#getting empty arrays\n",
    "#case 1: start and stop are same\n",
    "np.arange(2, 2)"
   ]
  },
  {
   "cell_type": "code",
   "execution_count": 29,
   "id": "frank-field",
   "metadata": {},
   "outputs": [
    {
     "data": {
      "text/plain": [
       "array([], dtype=int32)"
      ]
     },
     "execution_count": 29,
     "metadata": {},
     "output_type": "execute_result"
    }
   ],
   "source": [
    "#case2: when start is greater than stop and step is positive\n",
    "np.arange(4,2,1)"
   ]
  },
  {
   "cell_type": "code",
   "execution_count": 30,
   "id": "foster-auditor",
   "metadata": {},
   "outputs": [
    {
     "data": {
      "text/plain": [
       "array([], dtype=int32)"
      ]
     },
     "execution_count": 30,
     "metadata": {},
     "output_type": "execute_result"
    }
   ],
   "source": [
    "#case3: start is less than stop and step is negative\n",
    "np.arange(1, 4, -1)"
   ]
  },
  {
   "cell_type": "code",
   "execution_count": 31,
   "id": "moved-stanley",
   "metadata": {},
   "outputs": [],
   "source": [
    "x = np.arange(5)"
   ]
  },
  {
   "cell_type": "code",
   "execution_count": 32,
   "id": "published-bosnia",
   "metadata": {},
   "outputs": [
    {
     "name": "stdout",
     "output_type": "stream",
     "text": [
      "[0 1 2 3 4]\n"
     ]
    }
   ],
   "source": [
    "print(x)"
   ]
  },
  {
   "cell_type": "code",
   "execution_count": 33,
   "id": "ceramic-albert",
   "metadata": {},
   "outputs": [
    {
     "data": {
      "text/plain": [
       "dtype('int32')"
      ]
     },
     "execution_count": 33,
     "metadata": {},
     "output_type": "execute_result"
    }
   ],
   "source": [
    "x.dtype"
   ]
  },
  {
   "cell_type": "code",
   "execution_count": 34,
   "id": "stretch-teacher",
   "metadata": {},
   "outputs": [
    {
     "data": {
      "text/plain": [
       "4"
      ]
     },
     "execution_count": 34,
     "metadata": {},
     "output_type": "execute_result"
    }
   ],
   "source": [
    "x.itemsize"
   ]
  },
  {
   "cell_type": "code",
   "execution_count": 35,
   "id": "serious-rwanda",
   "metadata": {},
   "outputs": [],
   "source": [
    "x1 = np.arange(5, dtype=int)"
   ]
  },
  {
   "cell_type": "code",
   "execution_count": 36,
   "id": "variable-grave",
   "metadata": {},
   "outputs": [
    {
     "data": {
      "text/plain": [
       "array([0, 1, 2, 3, 4])"
      ]
     },
     "execution_count": 36,
     "metadata": {},
     "output_type": "execute_result"
    }
   ],
   "source": [
    "x1"
   ]
  },
  {
   "cell_type": "code",
   "execution_count": 37,
   "id": "reliable-niagara",
   "metadata": {},
   "outputs": [
    {
     "data": {
      "text/plain": [
       "dtype('int32')"
      ]
     },
     "execution_count": 37,
     "metadata": {},
     "output_type": "execute_result"
    }
   ],
   "source": [
    "x1.dtype"
   ]
  },
  {
   "cell_type": "code",
   "execution_count": 42,
   "id": "crazy-contributor",
   "metadata": {},
   "outputs": [],
   "source": [
    "a1=np.arange(7)"
   ]
  },
  {
   "cell_type": "code",
   "execution_count": 43,
   "id": "touched-hypothesis",
   "metadata": {},
   "outputs": [
    {
     "data": {
      "text/plain": [
       "array([0, 1, 2, 3, 4, 5, 6])"
      ]
     },
     "execution_count": 43,
     "metadata": {},
     "output_type": "execute_result"
    }
   ],
   "source": [
    "a1"
   ]
  },
  {
   "cell_type": "code",
   "execution_count": 44,
   "id": "absent-camping",
   "metadata": {},
   "outputs": [
    {
     "data": {
      "text/plain": [
       "1"
      ]
     },
     "execution_count": 44,
     "metadata": {},
     "output_type": "execute_result"
    }
   ],
   "source": [
    "a1.ndim"
   ]
  },
  {
   "cell_type": "code",
   "execution_count": 38,
   "id": "shared-conducting",
   "metadata": {},
   "outputs": [],
   "source": [
    "a = np.arange(6).reshape((2, 3))"
   ]
  },
  {
   "cell_type": "code",
   "execution_count": 39,
   "id": "opposite-origin",
   "metadata": {},
   "outputs": [
    {
     "data": {
      "text/plain": [
       "array([[0, 1, 2],\n",
       "       [3, 4, 5]])"
      ]
     },
     "execution_count": 39,
     "metadata": {},
     "output_type": "execute_result"
    }
   ],
   "source": [
    "a"
   ]
  },
  {
   "cell_type": "code",
   "execution_count": 40,
   "id": "assigned-business",
   "metadata": {},
   "outputs": [
    {
     "data": {
      "text/plain": [
       "(2, 3)"
      ]
     },
     "execution_count": 40,
     "metadata": {},
     "output_type": "execute_result"
    }
   ],
   "source": [
    "a.shape"
   ]
  },
  {
   "cell_type": "code",
   "execution_count": 41,
   "id": "confident-eugene",
   "metadata": {},
   "outputs": [
    {
     "data": {
      "text/plain": [
       "2"
      ]
     },
     "execution_count": 41,
     "metadata": {},
     "output_type": "execute_result"
    }
   ],
   "source": [
    "a.ndim"
   ]
  },
  {
   "cell_type": "code",
   "execution_count": 45,
   "id": "divided-scanning",
   "metadata": {},
   "outputs": [],
   "source": [
    "# The main difference between the two is that range is a built-in Python class, while arange() is a function that belongs to a third-party library (NumPy)"
   ]
  },
  {
   "cell_type": "code",
   "execution_count": 46,
   "id": "binding-folder",
   "metadata": {},
   "outputs": [],
   "source": [
    "import timeit"
   ]
  },
  {
   "cell_type": "code",
   "execution_count": 47,
   "id": "trying-theta",
   "metadata": {},
   "outputs": [],
   "source": [
    "n=1"
   ]
  },
  {
   "cell_type": "code",
   "execution_count": 48,
   "id": "collected-writing",
   "metadata": {},
   "outputs": [
    {
     "data": {
      "text/plain": [
       "0.9518607999998494"
      ]
     },
     "execution_count": 48,
     "metadata": {},
     "output_type": "execute_result"
    }
   ],
   "source": [
    " timeit.timeit(f'x = [i**2 for i in range({n})]')"
   ]
  },
  {
   "cell_type": "code",
   "execution_count": 49,
   "id": "golden-karaoke",
   "metadata": {},
   "outputs": [
    {
     "data": {
      "text/plain": [
       "1.2912300000002688"
      ]
     },
     "execution_count": 49,
     "metadata": {},
     "output_type": "execute_result"
    }
   ],
   "source": [
    "timeit.timeit(f'x = np.arange({n})**2', setup='import numpy as np')"
   ]
  },
  {
   "cell_type": "code",
   "execution_count": null,
   "id": "worth-magazine",
   "metadata": {},
   "outputs": [],
   "source": []
  }
 ],
 "metadata": {
  "kernelspec": {
   "display_name": "Python 3",
   "language": "python",
   "name": "python3"
  },
  "language_info": {
   "codemirror_mode": {
    "name": "ipython",
    "version": 3
   },
   "file_extension": ".py",
   "mimetype": "text/x-python",
   "name": "python",
   "nbconvert_exporter": "python",
   "pygments_lexer": "ipython3",
   "version": "3.7.9"
  }
 },
 "nbformat": 4,
 "nbformat_minor": 5
}
